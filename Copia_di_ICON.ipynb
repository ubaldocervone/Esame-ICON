{
  "nbformat": 4,
  "nbformat_minor": 0,
  "metadata": {
    "colab": {
      "provenance": [],
      "authorship_tag": "ABX9TyN38tV5JeSDx28Wi7tkdchx",
      "include_colab_link": true
    },
    "kernelspec": {
      "name": "python3",
      "display_name": "Python 3"
    },
    "language_info": {
      "name": "python"
    }
  },
  "cells": [
    {
      "cell_type": "markdown",
      "metadata": {
        "id": "view-in-github",
        "colab_type": "text"
      },
      "source": [
        "<a href=\"https://colab.research.google.com/github/ubaldocervone/Esame-ICON/blob/main/Copia_di_ICON.ipynb\" target=\"_parent\"><img src=\"https://colab.research.google.com/assets/colab-badge.svg\" alt=\"Open In Colab\"/></a>"
      ]
    },
    {
      "cell_type": "code",
      "source": [
        "import csv\n",
        "\n",
        "def conta_righe_csv(file_csv):\n",
        "    with open(file_csv, 'r', newline='') as file:\n",
        "        lettore_csv = csv.reader(file)\n",
        "        numero_totale_di_righe = sum(1 for riga in lettore_csv)\n",
        "    return numero_totale_di_righe\n",
        "\n",
        "percorso_file_csv = '/content/amazon_prime_users.csv'\n",
        "numero_totale = conta_righe_csv(percorso_file_csv)\n",
        "\n",
        "print(\"Il numero totale di righe nel file CSV è:\", numero_totale)\n"
      ],
      "metadata": {
        "colab": {
          "base_uri": "https://localhost:8080/"
        },
        "id": "-fOO7iEalFFo",
        "outputId": "de4bd60f-968b-4bdc-b5c9-ac0a79240c16"
      },
      "execution_count": null,
      "outputs": [
        {
          "output_type": "stream",
          "name": "stdout",
          "text": [
            "Il numero totale di righe nel file CSV è: 2501\n"
          ]
        }
      ]
    },
    {
      "cell_type": "markdown",
      "source": [
        "Analisi del punto 1."
      ],
      "metadata": {
        "id": "1ZDI4WzGTg4V"
      }
    },
    {
      "cell_type": "markdown",
      "source": [
        "Il Dataset non contiene dati sporchi, ovvero il dataset non contiene valori null, il che vuol dire che si può iniziare ad analizzare per creare una machine learning funzionante\n"
      ],
      "metadata": {
        "id": "UhfvO9ohTnTa"
      }
    },
    {
      "cell_type": "code",
      "source": [
        "import pandas as pd\n",
        "from sklearn.preprocessing import StandardScaler\n",
        "\n",
        "# Caricamento del dataset\n",
        "dataset = pd.read_csv('/content/amazon_prime_users.csv')\n",
        "\n",
        "# Rimozione dei dati duplicati\n",
        "dataset = dataset.drop_duplicates()\n",
        "\n",
        "# Rimozione dei dati mancanti\n",
        "dataset = dataset.dropna()\n",
        "\n",
        "# Controllo e trattamento dei valori non numerici nelle colonne interessate\n",
        "for column in ['Usage Frequency', 'Engagement Metrics']:\n",
        "    dataset[column] = pd.to_numeric(dataset[column], errors='coerce')\n",
        "\n",
        "# Filtraggio delle righe con valori validi nelle colonne numeriche\n",
        "dataset_valid = dataset.dropna(subset=['Usage Frequency', 'Engagement Metrics'])\n",
        "\n",
        "# Visualizzazione delle righe del dataset con valori validi\n",
        "print(\"Righe del dataset con valori validi nelle colonne numeriche:\")\n",
        "print(dataset_valid)\n",
        "\n",
        "\n",
        "if not dataset_valid.empty:\n",
        "\n",
        "    scaler = StandardScaler()\n",
        "    numerical_features = ['Usage Frequency', 'Engagement Metrics']\n",
        "    dataset_valid[numerical_features] = scaler.fit_transform(dataset_valid[numerical_features])\n",
        "\n",
        "\n",
        "    categorical_features = ['Gender', 'Subscription Plan']\n",
        "    dataset_valid = pd.get_dummies(dataset_valid, columns=categorical_features)\n",
        "\n",
        "\n",
        "    dataset_valid.to_csv('amazon_prime_users_clean.csv', index=False)\n",
        "    print(\"Il file 'amazon_prime_users_clean.csv' è stato creato correttamente.\")\n",
        "else:\n",
        "    print(\"Il dataset non contiene righe con valori validi nelle colonne numeriche.\")\n"
      ],
      "metadata": {
        "id": "hn-_Rrrf2-XX",
        "colab": {
          "base_uri": "https://localhost:8080/"
        },
        "outputId": "cc53901e-b6f3-4602-c0a7-c2ba327730ac"
      },
      "execution_count": null,
      "outputs": [
        {
          "output_type": "stream",
          "name": "stdout",
          "text": [
            "Righe del dataset con valori validi nelle colonne numeriche:\n",
            "Empty DataFrame\n",
            "Columns: [User ID, Name, Email Address, Username, Date of Birth, Gender, Location, Membership Start Date, Membership End Date, Subscription Plan, Payment Information, Renewal Status, Usage Frequency, Purchase History, Favorite Genres, Devices Used, Engagement Metrics, Feedback/Ratings, Customer Support Interactions]\n",
            "Index: []\n",
            "Il dataset non contiene righe con valori validi nelle colonne numeriche.\n"
          ]
        }
      ]
    },
    {
      "cell_type": "markdown",
      "source": [],
      "metadata": {
        "id": "PfUrjeXFYrX2"
      }
    },
    {
      "cell_type": "markdown",
      "source": [
        "2. Previsione della churn (abbandono): Prevede quali utenti sono più inclini a disdire l'abbonamento. Utilizzando tecniche di regressione per identificare i fattori che influenzano la probabilità di churn e per tanto sviluppare modelli predittivi per prevenirlo."
      ],
      "metadata": {
        "id": "3GJSl8D1T9wa"
      }
    },
    {
      "cell_type": "code",
      "source": [
        "import pandas as pd\n",
        "import numpy as np\n",
        "\n",
        "# Creazione di un DataFrame fittizio per scopi dimostrativi\n",
        "# Puoi sostituire questo passaggio con l'importazione effettiva dei tuoi dati\n",
        "data = {\n",
        "    'User ID': range(1, 101),\n",
        "    'Feature1': np.random.randn(100),\n",
        "    'Feature2': np.random.randn(100)\n",
        "}\n",
        "dataset = pd.DataFrame(data)\n",
        "\n",
        "# Aggiunta della colonna \"Churn\" con valori casuali (0 o 1)\n",
        "dataset['Churn'] = np.random.randint(2, size=len(dataset))\n",
        "\n",
        "# Stampiamo le prime righe del DataFrame per verificare che la colonna \"Churn\" sia stata aggiunta correttamente\n",
        "print(dataset.head())\n"
      ],
      "metadata": {
        "id": "eMk4BubpXnJY",
        "colab": {
          "base_uri": "https://localhost:8080/"
        },
        "outputId": "709e42b8-1b82-46f6-90a9-ec897b82b6d5"
      },
      "execution_count": null,
      "outputs": [
        {
          "output_type": "stream",
          "name": "stdout",
          "text": [
            "   User ID  Feature1  Feature2  Churn\n",
            "0        1 -0.075456  0.026656      1\n",
            "1        2  2.008450  0.034624      1\n",
            "2        3  0.061466 -0.305944      0\n",
            "3        4 -2.088751  0.990985      1\n",
            "4        5  0.226583 -0.938524      0\n"
          ]
        }
      ]
    },
    {
      "cell_type": "markdown",
      "source": [
        "    1.Importazione delle librerie necessarie: Viene importata la libreria pandas con l'alias pd e la libreria numpy con l'alias np. Queste librerie sono ampiamente utilizzate per la manipolazione dei dati e la generazione di array numerici, rispettivamente.\n",
        "\n",
        "    2.Creazione di un DataFrame fittizio: Viene creato un dizionario chiamato data che contiene tre chiavi: 'User ID', 'Feature1' e 'Feature2'. La chiave 'User ID' contiene numeri interi da 1 a 100, mentre 'Feature1' e 'Feature2' contengono valori casuali generati da una distribuzione normale utilizzando np.random.randn(100).\n",
        "\n",
        "    3.Creazione del DataFrame: Il dizionario data viene passato al costruttore del DataFrame di pandas (pd.DataFrame(data)), che crea un DataFrame con le colonne corrispondenti alle chiavi del dizionario e i valori corrispondenti ai valori associati alle chiavi.\n",
        "\n",
        "    4.Aggiunta della colonna \"Churn\": Viene aggiunta una nuova colonna chiamata \"Churn\" al DataFrame, utilizzando il metodo np.random.randint(2, size=len(dataset)). Questo metodo genera valori casuali interi tra 0 e 1, inclusi, per una lunghezza pari alla lunghezza del DataFrame, che è 100 in questo caso.\n",
        "\n",
        "    5.Stampa delle prime righe del DataFrame: Viene stampato il DataFrame per verificare che la colonna \"Churn\" sia stata aggiunta correttamente utilizzando il metodo head(), che mostra per impostazione predefinita le prime 5 righe del DataFrame."
      ],
      "metadata": {
        "id": "p1dsFisqY7Dk"
      }
    },
    {
      "cell_type": "code",
      "source": [
        "from sklearn.model_selection import train_test_split\n",
        "from sklearn.preprocessing import StandardScaler\n",
        "from sklearn.linear_model import LogisticRegression\n",
        "from sklearn.metrics import accuracy_score, classification_report\n",
        "\n",
        "# Definizione delle features e della target variable\n",
        "X = dataset.drop(columns=['User ID', 'Churn'])\n",
        "y = dataset['Churn']\n",
        "\n",
        "# Divisione del dataset in set di addestramento e di test\n",
        "X_train, X_test, y_train, y_test = train_test_split(X, y, test_size=0.2, random_state=42)\n",
        "\n",
        "# Normalizzazione delle feature\n",
        "scaler = StandardScaler()\n",
        "X_train_scaled = scaler.fit_transform(X_train)\n",
        "X_test_scaled = scaler.transform(X_test)\n",
        "\n",
        "# Addestramento del modello di regressione logistica\n",
        "model = LogisticRegression()\n",
        "model.fit(X_train_scaled, y_train)\n",
        "\n",
        "# Valutazione delle prestazioni del modello\n",
        "y_pred = model.predict(X_test_scaled)\n",
        "accuracy = accuracy_score(y_test, y_pred)\n",
        "print(\"Accuracy del modello:\", accuracy)\n",
        "print(\"\\nReport di classificazione:\")\n",
        "print(classification_report(y_test, y_pred))\n"
      ],
      "metadata": {
        "id": "LZIxfqoIXeHh",
        "colab": {
          "base_uri": "https://localhost:8080/"
        },
        "outputId": "c2362972-489c-4688-95fc-cdf157f2d68f"
      },
      "execution_count": null,
      "outputs": [
        {
          "output_type": "stream",
          "name": "stdout",
          "text": [
            "Accuracy del modello: 0.6\n",
            "\n",
            "Report di classificazione:\n",
            "              precision    recall  f1-score   support\n",
            "\n",
            "           0       0.55      0.67      0.60         9\n",
            "           1       0.67      0.55      0.60        11\n",
            "\n",
            "    accuracy                           0.60        20\n",
            "   macro avg       0.61      0.61      0.60        20\n",
            "weighted avg       0.61      0.60      0.60        20\n",
            "\n"
          ]
        }
      ]
    },
    {
      "cell_type": "markdown",
      "source": [
        "    Importazione delle librerie necessarie: Importa le librerie di scikit-learn necessarie per eseguire il processo di addestramento e valutazione del modello.\n",
        "\n",
        "    1.Definizione delle features e della target variable: Si separano le feature (X) dalla variabile target (y) dal dataset. Le colonne 'User ID' e 'Churn' vengono escluse dalle feature. X conterrà quindi solo le colonne di feature, mentre y conterrà solo la colonna \"Churn\", che rappresenta la variabile target.\n",
        "\n",
        "    2.Divisione del dataset in set di addestramento e di test: Utilizzando la funzione train_test_split dal modulo sklearn.model_selection, il dataset viene diviso in set di addestramento (X_train, y_train) e di test (X_test, y_test). Il 20% del dataset viene utilizzato per il test, mentre l'80% rimanente viene utilizzato per l'addestramento del modello. Il parametro test_size=0.2 specifica la proporzione di dati da utilizzare per il test, mentre random_state=42 garantisce la riproducibilità della suddivisione dei dati.\n",
        "\n",
        "    3.Normalizzazione delle feature: Le feature vengono normalizzate utilizzando la StandardScaler dal modulo sklearn.preprocessing. La normalizzazione è una pratica comune nell'apprendimento automatico per garantire che tutte le feature abbiano la stessa scala.\n",
        "\n",
        "    4.Addestramento del modello di regressione logistica: Viene creato un oggetto di LogisticRegression dal modulo sklearn.linear_model e viene addestrato utilizzando i dati di addestramento normalizzati.\n",
        "\n",
        "    5.Valutazione delle prestazioni del modello: Il modello addestrato viene utilizzato per fare previsioni sui dati di test e le prestazioni del modello vengono valutate calcolando l'accuratezza delle previsioni e stampando un report di classificazione che include misure come precision, recall e F1-score per ciascuna classe e l'accuracy complessiva."
      ],
      "metadata": {
        "id": "Uyjtbo3GYNGS"
      }
    },
    {
      "cell_type": "code",
      "source": [
        "import matplotlib.pyplot as plt\n",
        "\n",
        "# Calcolo delle previsioni del modello sul set di test\n",
        "y_pred = model.predict(X_test_scaled)\n",
        "\n",
        "# Calcolo dell'accuracy del modello\n",
        "accuracy = accuracy_score(y_test, y_pred)\n",
        "print(\"Accuracy del modello:\", accuracy)\n",
        "\n",
        "# Report di classificazione\n",
        "print(\"\\nReport di classificazione:\")\n",
        "print(classification_report(y_test, y_pred))\n",
        "\n",
        "# Creazione del grafico a torta\n",
        "labels = ['Churn', 'Non Churn']\n",
        "sizes = [sum(y_pred), len(y_pred) - sum(y_pred)]  # Numero di previsioni Churn e Non Churn\n",
        "colors = ['lightcoral', 'lightskyblue']\n",
        "explode = (0.1, 0)  # Esplosione della fetta Churn\n",
        "\n",
        "plt.figure(figsize=(8, 6))\n",
        "plt.pie(sizes, explode=explode, labels=labels, colors=colors, autopct='%1.1f%%', shadow=True, startangle=140)\n",
        "plt.axis('equal')  # Per ottenere un aspetto circolare del grafico a torta\n",
        "plt.title('Distribuzione delle previsioni del modello')\n",
        "plt.show()\n"
      ],
      "metadata": {
        "colab": {
          "base_uri": "https://localhost:8080/",
          "height": 729
        },
        "id": "Bh8NaSd7X4ZA",
        "outputId": "782cfe0d-2e16-40d5-e32b-1884a166fe1f"
      },
      "execution_count": null,
      "outputs": [
        {
          "output_type": "stream",
          "name": "stdout",
          "text": [
            "Accuracy del modello: 0.6\n",
            "\n",
            "Report di classificazione:\n",
            "              precision    recall  f1-score   support\n",
            "\n",
            "           0       0.55      0.67      0.60         9\n",
            "           1       0.67      0.55      0.60        11\n",
            "\n",
            "    accuracy                           0.60        20\n",
            "   macro avg       0.61      0.61      0.60        20\n",
            "weighted avg       0.61      0.60      0.60        20\n",
            "\n"
          ]
        },
        {
          "output_type": "display_data",
          "data": {
            "text/plain": [
              "<Figure size 800x600 with 1 Axes>"
            ],
            "image/png": "[encoded data removed]"
          },
          "metadata": {}
        }
      ]
    }
  ]
}